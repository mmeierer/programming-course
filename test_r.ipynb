{
  "cells": [
    {
      "cell_type": "markdown",
      "metadata": {
        "id": "cCjAe20VdlxO"
      },
      "source": [
        "# R - Non-technical introduction\n",
        "\n",
        "## Session: \"Life is easy when using the right tools: Why and how to work with Python?\"\n",
        "\n",
        "### Exercise with solutions \n",
        "\n",
        "This file provides the solutions to the exercises accompanying the lectures.\n",
        "\n",
        "*Note:* If you want to make changes to this document, you need to save your own copy using the \"Save copy in Drive\" command in the \"File\" menu."
      ]
    },
    {
      "cell_type": "markdown",
      "metadata": {},
      "source": [
        "<a target=\"_blank\" href=\"https://colab.research.google.com/github/mmeierer/programming-course/blob/main/test_r.ipynb\">\n",
        "  <img src=\"https://colab.research.google.com/assets/colab-badge.svg\" alt=\"Open In Colab\"/>\n",
        "</a>"
      ]
    },
    {
      "cell_type": "markdown",
      "metadata": {
        "id": "zTwFdLcPIgz5"
      },
      "source": [
        "### 01 - Test"
      ]
    },
    {
      "cell_type": "code",
      "execution_count": null,
      "metadata": {
        "id": "Y3zCHBk0Z509",
        "vscode": {
          "languageId": "plaintext"
        }
      },
      "outputs": [],
      "source": [
        "install.packages(\"data.table\")"
      ]
    },
    {
      "cell_type": "code",
      "execution_count": null,
      "metadata": {
        "vscode": {
          "languageId": "plaintext"
        }
      },
      "outputs": [],
      "source": [
        "R.Version()"
      ]
    },
    {
      "cell_type": "markdown",
      "metadata": {
        "id": "8QLVSXVLI8wy"
      },
      "source": [
        "### 02 - Random Python code"
      ]
    },
    {
      "cell_type": "code",
      "execution_count": null,
      "metadata": {
        "id": "22RBY_theF7H"
      },
      "outputs": [],
      "source": [
        "import pandas as pd"
      ]
    },
    {
      "cell_type": "code",
      "execution_count": null,
      "metadata": {
        "colab": {
          "base_uri": "https://localhost:8080/",
          "height": 1000
        },
        "id": "ORYvQYiZfuMu",
        "outputId": "7e69c683-12da-4219-d2ee-cd10906ee06f"
      },
      "outputs": [],
      "source": [
        "#Have a look at the help file of the Pandas package.\n",
        "help(pd)\n",
        "#Have a look at the function read_csv of this package.\n",
        "help(pd.read_csv)\n",
        "#Solution: Functions reads CSV (comma-separated) file into DataFrame."
      ]
    }
  ],
  "metadata": {
    "colab": {
      "provenance": []
    },
 "kernelspec": {
      "name": "ir",
      "display_name": "R",
      "language": "R"
    },
    "language_info": {
      "codemirror_mode": {
        "name": "ipython",
        "version": 3
      },
      "file_extension": ".py",
      "mimetype": "text/x-python",
      "name": "python",
      "nbconvert_exporter": "python",
      "pygments_lexer": "ipython3",
      "version": "3.10.8"
    }
  },
   },
  "nbformat": 4,
  "nbformat_minor": 0

 
}
